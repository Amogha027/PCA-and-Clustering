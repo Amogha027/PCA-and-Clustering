{
  "cells": [
    {
      "cell_type": "code",
      "execution_count": 107,
      "metadata": {
        "id": "O7R_cvvguw2_"
      },
      "outputs": [],
      "source": [
        "import cv2\n",
        "import csv\n",
        "import sys\n",
        "import warnings\n",
        "import numpy as np\n",
        "import pandas as pd\n",
        "import matplotlib.pyplot as plt\n",
        "\n",
        "from sklearn.cluster import AgglomerativeClustering\n",
        "\n",
        "warnings.filterwarnings('ignore')\n",
        "np.set_printoptions(threshold=sys.maxsize)"
      ]
    },
    {
      "cell_type": "markdown",
      "metadata": {
        "id": "ftOl9lMb_t1M"
      },
      "source": [
        "read the csv after finding horizontal threshold, vertical thresholds. make it such that it follows the given format\n",
        "\n",
        "final csv is the csv that has columns Id, Top-Left, Bottom-Right, Top, Left, Bottom, Right, Top_box, Bottom_box, Left_box, Right_box\n",
        "\n",
        "Id - refers to box ID -> int\n",
        "\n",
        "Top-Left,Bottom-Right - refers to the xy coordinates of topleft and bottomright coordinate of a bounding box\n",
        "\n",
        "Top/Left/Bottom/Right - refers to the coordinates of edge centers\n",
        "\n",
        "Top_box/Bottom_box/Left_box/Right_box - refers to the nearest box from current box such that the words across paragraphs or columns should not get connected -> List:[dist, nearest box ID]\n"
      ]
    },
    {
      "cell_type": "code",
      "execution_count": 108,
      "metadata": {},
      "outputs": [],
      "source": [
        "def get_values(df):\n",
        "    columns_idx = list(df.iloc[:,3])\n",
        "    top_left = []\n",
        "    for vec in list(df.iloc[:,1]):\n",
        "        vec = vec.replace('[', '').replace(']', '').replace(',', '')\n",
        "        num_list = vec.split()\n",
        "        numbers = [int(num) for num in num_list]\n",
        "        top_left.append(numbers)\n",
        "    bottom_right = []\n",
        "    for vec in list(df.iloc[:,2]):\n",
        "        vec = vec.replace('[', '').replace(']', '').replace(',', '')\n",
        "        num_list = vec.split()\n",
        "        numbers = [int(num) for num in num_list]\n",
        "        bottom_right.append(numbers)\n",
        "    return columns_idx, top_left, bottom_right\n",
        "\n",
        "def get_edge_centres(top_left, bottom_right):\n",
        "    X = []\n",
        "    top = []\n",
        "    left = []\n",
        "    bottom = []\n",
        "    right = []\n",
        "    for vec1, vec2 in zip(top_left, bottom_right):\n",
        "        avx = (vec1[0]+vec2[0]) / 2\n",
        "        avy = (vec1[1]+vec2[1]) / 2\n",
        "        X.append([avx, avy])\n",
        "        top.append([avx, vec1[1]])\n",
        "        left.append([vec1[0], avy])\n",
        "        bottom.append([avx, vec2[1]])\n",
        "        right.append([vec2[0], avy])\n",
        "    return X, top, left, bottom, right\n",
        "\n",
        "def euclidean(a, b):\n",
        "    return np.sqrt(np.sum((np.array(a)-np.array(b))**2))\n",
        "\n",
        "def get_neighbours(arr, arr2, cluster):\n",
        "    result = []\n",
        "    for i, vec1 in enumerate(arr):\n",
        "        dist, idx = 1e6, 0\n",
        "        for j, vec2 in enumerate(arr2):\n",
        "            if cluster[i] == cluster[j]:\n",
        "                new_dist = euclidean(vec1, vec2)\n",
        "                if new_dist < dist:\n",
        "                    dist = new_dist\n",
        "                    idx = j\n",
        "        result.append([round(dist, 2), idx])\n",
        "    return result"
      ]
    },
    {
      "cell_type": "code",
      "execution_count": 109,
      "metadata": {
        "id": "wCfoR-1Pu89Z"
      },
      "outputs": [],
      "source": [
        "df = pd.read_csv('CSV/TLBR_159.csv')\n",
        "columns_id, top_left, bottom_right = get_values(df)\n",
        "X, top, left, bottom, right = get_edge_centres(top_left, bottom_right)\n",
        "\n",
        "agglomerative = AgglomerativeClustering(n_clusters=5, affinity='euclidean', linkage='ward')\n",
        "agglomerative.fit(X)\n",
        "clusters = agglomerative.labels_\n",
        "\n",
        "top_box = get_neighbours(top, bottom, clusters)\n",
        "bottom_box = get_neighbours(bottom, top, clusters)\n",
        "left_box = get_neighbours(left, right, clusters)\n",
        "right_box = get_neighbours(right, left, clusters)\n",
        "\n",
        "data = list(zip(columns_id, top_left, bottom_right, top, left, bottom, right, top_box, bottom_box, left_box, right_box))\n",
        "header = ['columns Id', 'Top-Left', 'Bottom-Right', 'Top', 'Left', 'Bottom', 'Right', 'Top_box', 'Bottom_box', 'Left_box', 'Right_box']\n",
        "\n",
        "file = 'output.csv'\n",
        "with open(file, mode='w', newline='') as file:\n",
        "    writer = csv.writer(file)\n",
        "    writer.writerow(header)\n",
        "    writer.writerows(data)"
      ]
    },
    {
      "cell_type": "code",
      "execution_count": 110,
      "metadata": {
        "id": "xPeFmZor1joq"
      },
      "outputs": [],
      "source": [
        "img = cv2.imread('images/159.jpg')"
      ]
    },
    {
      "cell_type": "markdown",
      "metadata": {
        "id": "ftgXotdHAIU4"
      },
      "source": [
        "Given below are two functions to visualize the document image and the connections established.\n",
        "\n",
        "visualize_bboxes() can be used to visualize a document image with the bounding boxes around words. Bounding box information is given in the CSVs provided\n",
        "\n",
        "make_connections() can be used to verify and visualize the connections established between words such that it satisfies the given criteria of grouping words in a logical paragraph. This function has to be used after getting the final csv in the specified format"
      ]
    },
    {
      "cell_type": "code",
      "execution_count": 111,
      "metadata": {
        "id": "S6PnO_1mvcR5"
      },
      "outputs": [],
      "source": [
        "def visualize_bboxes(img):\n",
        "  img_2 = img.copy()\n",
        "  for index, rows in df.iterrows():\n",
        "    top_left = (int(rows['Top-Left'].split(',')[0][1:]),int(rows['Top-Left'].split(',')[1][:-1]))\n",
        "    bottom_right = (int(rows['Bottom-Right'].split(',')[0][1:]),int(rows['Bottom-Right'].split(',')[1][:-1]))\n",
        "    print(top_left)\n",
        "    cv2.rectangle(img_2, top_left, bottom_right, (255, 0, 0), 2)\n",
        "\n",
        "    plt.imshow(img_2)"
      ]
    },
    {
      "cell_type": "code",
      "execution_count": 112,
      "metadata": {
        "id": "l1i2sG1HvgDR"
      },
      "outputs": [],
      "source": [
        "def make_connections(image):\n",
        "\n",
        "  image_rgb = cv2.cvtColor(image, cv2.COLOR_BGR2RGB)\n",
        "\n",
        "  image_with_boxes = image_rgb.copy()\n",
        "\n",
        "  for index, row in euclidean.iterrows():\n",
        "      left = int(row['Left'][0])\n",
        "      right = int(row['Right'][0])\n",
        "      top = int(row['Top'][1])\n",
        "      bottom = int(row['Bottom'][1])\n",
        "      box_id = int(row['Id'])\n",
        "\n",
        "      width = right - left\n",
        "      height = bottom - top\n",
        "\n",
        "      top_left = (left, top)\n",
        "      bottom_right = (right, bottom)\n",
        "\n",
        "      cv2.rectangle(image_with_boxes, top_left, bottom_right, (255, 0, 0), 2)\n",
        "\n",
        "      label_position = (left, top - 10)\n",
        "      cv2.putText(image_with_boxes, str(box_id), label_position, cv2.FONT_HERSHEY_SIMPLEX, 0.5, (0, 0, 255), 1)\n",
        "\n",
        "      top_adjacent_id = int(row['Top_Box'][1])\n",
        "      bottom_adjacent_id = int(row['Bottom_Box'][1])\n",
        "      left_adjacent_id = int(row['Left_Box'][1])\n",
        "      right_adjacent_id = int(row['Right_Box'][1])\n",
        "\n",
        "      if top_adjacent_id != 0:\n",
        "          top_adjacent_row = euclidean[euclidean['Id'] == top_adjacent_id].iloc[0]\n",
        "          top_adjacent_center = int(top_adjacent_row['Bottom'][0]) , int(top_adjacent_row['Bottom'][1])\n",
        "          cv2.line(image_with_boxes, (int(left) + width // 2, int(top)), top_adjacent_center, (0, 255, 0), 2)\n",
        "\n",
        "      if bottom_adjacent_id != 0:\n",
        "          bottom_adjacent_row = euclidean[euclidean['Id'] == bottom_adjacent_id].iloc[0]\n",
        "          bottom_adjacent_center = int(bottom_adjacent_row['Top'][0]) , int(bottom_adjacent_row['Top'][1])\n",
        "          cv2.line(image_with_boxes, (int(left) + width // 2, int(bottom)), (int(bottom_adjacent_center[0]), int(bottom_adjacent_center[1])), (0, 255, 0), 2)\n",
        "\n",
        "      if left_adjacent_id != 0:\n",
        "          left_adjacent_row = euclidean[euclidean['Id'] == left_adjacent_id].iloc[0]\n",
        "          left_adjacent_center = int(left_adjacent_row['Right'][0]) , int(left_adjacent_row['Right'][1])\n",
        "          cv2.line(image_with_boxes, (int(left), int(top) + height // 2), (int(left_adjacent_center[0]), int(left_adjacent_center[1])), (0, 255, 0), 2)\n",
        "\n",
        "      if right_adjacent_id != 0:\n",
        "          right_adjacent_row = euclidean[euclidean['Id'] == right_adjacent_id].iloc[0]\n",
        "          right_adjacent_center = int(right_adjacent_row['Left'][0]) , int(right_adjacent_row['Left'][1])\n",
        "          cv2.line(image_with_boxes, (int(right), int(top) + height // 2), (int(right_adjacent_center[0]), int(right_adjacent_center[1])), (0, 255, 0), 2)\n",
        "\n",
        "  return image_with_boxes"
      ]
    },
    {
      "cell_type": "code",
      "execution_count": 113,
      "metadata": {},
      "outputs": [],
      "source": [
        "# visualize_bboxes(img)\n",
        "# make_connections(img)"
      ]
    }
  ],
  "metadata": {
    "colab": {
      "provenance": []
    },
    "kernelspec": {
      "display_name": "Python 3",
      "name": "python3"
    },
    "language_info": {
      "codemirror_mode": {
        "name": "ipython",
        "version": 3
      },
      "file_extension": ".py",
      "mimetype": "text/x-python",
      "name": "python",
      "nbconvert_exporter": "python",
      "pygments_lexer": "ipython3",
      "version": "3.10.12"
    }
  },
  "nbformat": 4,
  "nbformat_minor": 0
}
