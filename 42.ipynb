{
 "cells": [
  {
   "cell_type": "code",
   "execution_count": 4,
   "metadata": {},
   "outputs": [],
   "source": [
    "import csv\n",
    "import sys\n",
    "import warnings\n",
    "import numpy as np\n",
    "import pandas as pd\n",
    "from sklearn.cluster import AgglomerativeClustering\n",
    "\n",
    "warnings.filterwarnings('ignore')\n",
    "np.set_printoptions(threshold=sys.maxsize)"
   ]
  },
  {
   "cell_type": "code",
   "execution_count": 5,
   "metadata": {},
   "outputs": [],
   "source": [
    "def get_values(df):\n",
    "    columns_idx = list(df.iloc[:,3])\n",
    "    top_left = []\n",
    "    for vec in list(df.iloc[:,1]):\n",
    "        vec = vec.replace('[', '').replace(']', '').replace(',', '')\n",
    "        num_list = vec.split()\n",
    "        numbers = [int(num) for num in num_list]\n",
    "        top_left.append(numbers)\n",
    "    bottom_right = []\n",
    "    for vec in list(df.iloc[:,2]):\n",
    "        vec = vec.replace('[', '').replace(']', '').replace(',', '')\n",
    "        num_list = vec.split()\n",
    "        numbers = [int(num) for num in num_list]\n",
    "        bottom_right.append(numbers)\n",
    "    return columns_idx, top_left, bottom_right\n",
    "\n",
    "def get_edge_centres(top_left, bottom_right):\n",
    "    X = []\n",
    "    top = []\n",
    "    left = []\n",
    "    bottom = []\n",
    "    right = []\n",
    "    for vec1, vec2 in zip(top_left, bottom_right):\n",
    "        avx = (vec1[0]+vec2[0]) / 2\n",
    "        avy = (vec1[1]+vec2[1]) / 2\n",
    "        X.append([avx, avy])\n",
    "        top.append([avx, vec1[1]])\n",
    "        left.append([vec1[0], avy])\n",
    "        bottom.append([avx, vec2[1]])\n",
    "        right.append([vec2[0], avy])\n",
    "    return X, top, left, bottom, right\n",
    "\n",
    "def euclidean(a, b):\n",
    "    return np.sqrt(np.sum((np.array(a)-np.array(b))**2))\n",
    "\n",
    "def get_neighbours(arr, arr2, cluster):\n",
    "    result = []\n",
    "    threshold = 50\n",
    "    for i, vec1 in enumerate(arr):\n",
    "        dist, idx = 1e6, 0\n",
    "        for j, vec2 in enumerate(arr2):\n",
    "            if cluster[i] == cluster[j]:\n",
    "                new_dist = euclidean(vec1, vec2)\n",
    "                if new_dist < dist:\n",
    "                    dist = new_dist\n",
    "                    idx = j\n",
    "        if dist>threshold: result.append([-1, 0])\n",
    "        else: result.append([round(dist, 2), idx])\n",
    "    return result"
   ]
  },
  {
   "cell_type": "code",
   "execution_count": 6,
   "metadata": {},
   "outputs": [],
   "source": [
    "df = pd.read_csv('4/SMAI-AQ2/CSV/TLBR_159.csv')\n",
    "columns_id, top_left, bottom_right = get_values(df)\n",
    "X, top, left, bottom, right = get_edge_centres(top_left, bottom_right)\n",
    "\n",
    "agglomerative = AgglomerativeClustering(n_clusters=5, affinity='euclidean', linkage='ward')\n",
    "agglomerative.fit(X)\n",
    "clusters = agglomerative.labels_\n",
    "\n",
    "top_box = get_neighbours(top, bottom, clusters)\n",
    "bottom_box = get_neighbours(bottom, top, clusters)\n",
    "left_box = get_neighbours(left, right, clusters)\n",
    "right_box = get_neighbours(right, left, clusters)\n",
    "\n",
    "data = list(zip(columns_id, top_left, bottom_right, top, left, bottom, right, top_box, bottom_box, left_box, right_box))\n",
    "header = ['columns Id', 'Top-Left', 'Bottom-Right', 'Top', 'Left', 'Bottom', 'Right', 'Top_box', 'Bottom_box', 'Left_box', 'Right_box']\n",
    "\n",
    "file = 'output.csv'\n",
    "with open(file, mode='w', newline='') as file:\n",
    "    writer = csv.writer(file)\n",
    "    writer.writerow(header)\n",
    "    writer.writerows(data)"
   ]
  }
 ],
 "metadata": {
  "kernelspec": {
   "display_name": "Python 3",
   "language": "python",
   "name": "python3"
  },
  "language_info": {
   "codemirror_mode": {
    "name": "ipython",
    "version": 3
   },
   "file_extension": ".py",
   "mimetype": "text/x-python",
   "name": "python",
   "nbconvert_exporter": "python",
   "pygments_lexer": "ipython3",
   "version": "3.10.12"
  },
  "orig_nbformat": 4
 },
 "nbformat": 4,
 "nbformat_minor": 2
}
